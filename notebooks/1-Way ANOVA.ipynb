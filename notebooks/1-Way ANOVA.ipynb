{
 "cells": [
  {
   "cell_type": "markdown",
   "metadata": {},
   "source": [
    "# ANALYSIS OF VARIANCE (ANOVA)"
   ]
  },
  {
   "cell_type": "markdown",
   "metadata": {},
   "source": [
    "## What is one-way ANOVA?"
   ]
  },
  {
   "cell_type": "markdown",
   "metadata": {},
   "source": [
    "The one-way analysis of variance (ANOVA) is used to determine whether there are any statistically significant differences between the means of three or more independent (unrelated) groups."
   ]
  },
  {
   "cell_type": "markdown",
   "metadata": {},
   "source": [
    "### Assumptions of ANOVA\n",
    "The assumptions of the ANOVA test are the same as the general assumptions for any parametric test:\n",
    "\n",
    "- __Independence of observations:__ the data were collected using statistically-valid methods, and there are no hidden relationships among observations. \n",
    "\n",
    "\n",
    "- __Normally-distributed response variable:__ Your dependent variable should be approximately normally distributed for each category of the independent variable. We talk about the one-way ANOVA only requiring approximately normal data because it is quite \"robust\" to violations of normality, meaning that assumption can be a little violated and still provide valid results. You can test for normality using the Shapiro-Wilk test of normality.\n",
    "\n",
    "\n",
    "- __Homogeneity of variance:__ The variation within each group being compared is similar for every group. If the variances are different among the groups, then ANOVA probably isn’t the right fit for the data."
   ]
  },
  {
   "cell_type": "markdown",
   "metadata": {},
   "source": [
    "## Explaination by Implementation"
   ]
  },
  {
   "cell_type": "markdown",
   "metadata": {},
   "source": [
    "Throughout this notebook, We will follow an example on price across different bookstores for used harry potter book. Imagine that we have purchased books many times for our friends at different stores — A, B, C, D and E — and we have calculated prices."
   ]
  },
  {
   "cell_type": "markdown",
   "metadata": {},
   "source": [
    "### Data Generation"
   ]
  },
  {
   "cell_type": "code",
   "execution_count": 1,
   "metadata": {},
   "outputs": [],
   "source": [
    "#importing libraries\n",
    "import pandas as pd\n",
    "from numpy import random"
   ]
  },
  {
   "cell_type": "code",
   "execution_count": 2,
   "metadata": {},
   "outputs": [],
   "source": [
    "#making a list of 5 stores and randomly assigning values\n",
    "L = ['A','B','C','D','E']\n",
    "random.seed(30)\n",
    "L = [random.uniform(5,6, size=(7)),random.uniform(8,15, size=(7)),random.uniform(12,15, size=(7)),random.uniform(9,12, size=(7)),random.uniform(6,8, size=(7))]"
   ]
  },
  {
   "cell_type": "code",
   "execution_count": 3,
   "metadata": {},
   "outputs": [],
   "source": [
    "#making two lists one with all the store names and other containing the prices corresponding to each stores\n",
    "all_price = []\n",
    "store = []\n",
    "for i in range(len(L)):\n",
    "    all_price.extend(L[i])\n",
    "    store.extend(chr(65+i)*len(L[i]))"
   ]
  },
  {
   "cell_type": "code",
   "execution_count": 4,
   "metadata": {},
   "outputs": [
    {
     "data": {
      "text/html": [
       "<div>\n",
       "<style scoped>\n",
       "    .dataframe tbody tr th:only-of-type {\n",
       "        vertical-align: middle;\n",
       "    }\n",
       "\n",
       "    .dataframe tbody tr th {\n",
       "        vertical-align: top;\n",
       "    }\n",
       "\n",
       "    .dataframe thead th {\n",
       "        text-align: right;\n",
       "    }\n",
       "</style>\n",
       "<table border=\"1\" class=\"dataframe\">\n",
       "  <thead>\n",
       "    <tr style=\"text-align: right;\">\n",
       "      <th></th>\n",
       "      <th>store</th>\n",
       "      <th>price</th>\n",
       "    </tr>\n",
       "  </thead>\n",
       "  <tbody>\n",
       "    <tr>\n",
       "      <th>0</th>\n",
       "      <td>A</td>\n",
       "      <td>5.644144</td>\n",
       "    </tr>\n",
       "    <tr>\n",
       "      <th>1</th>\n",
       "      <td>A</td>\n",
       "      <td>5.380748</td>\n",
       "    </tr>\n",
       "    <tr>\n",
       "      <th>2</th>\n",
       "      <td>A</td>\n",
       "      <td>5.663048</td>\n",
       "    </tr>\n",
       "    <tr>\n",
       "      <th>3</th>\n",
       "      <td>A</td>\n",
       "      <td>5.163651</td>\n",
       "    </tr>\n",
       "    <tr>\n",
       "      <th>4</th>\n",
       "      <td>A</td>\n",
       "      <td>5.962608</td>\n",
       "    </tr>\n",
       "  </tbody>\n",
       "</table>\n",
       "</div>"
      ],
      "text/plain": [
       "  store     price\n",
       "0     A  5.644144\n",
       "1     A  5.380748\n",
       "2     A  5.663048\n",
       "3     A  5.163651\n",
       "4     A  5.962608"
      ]
     },
     "execution_count": 4,
     "metadata": {},
     "output_type": "execute_result"
    }
   ],
   "source": [
    "#making a dataframe with the above lists as columns namely 'store' and 'prices'\n",
    "data = pd.DataFrame({'store': store, 'price': all_price})\n",
    "data.head()"
   ]
  },
  {
   "cell_type": "code",
   "execution_count": 5,
   "metadata": {},
   "outputs": [
    {
     "data": {
      "text/html": [
       "<div>\n",
       "<style scoped>\n",
       "    .dataframe tbody tr th:only-of-type {\n",
       "        vertical-align: middle;\n",
       "    }\n",
       "\n",
       "    .dataframe tbody tr th {\n",
       "        vertical-align: top;\n",
       "    }\n",
       "\n",
       "    .dataframe thead th {\n",
       "        text-align: right;\n",
       "    }\n",
       "</style>\n",
       "<table border=\"1\" class=\"dataframe\">\n",
       "  <thead>\n",
       "    <tr style=\"text-align: right;\">\n",
       "      <th></th>\n",
       "      <th>store</th>\n",
       "      <th>price</th>\n",
       "    </tr>\n",
       "  </thead>\n",
       "  <tbody>\n",
       "    <tr>\n",
       "      <th>0</th>\n",
       "      <td>A</td>\n",
       "      <td>5.593230</td>\n",
       "    </tr>\n",
       "    <tr>\n",
       "      <th>1</th>\n",
       "      <td>B</td>\n",
       "      <td>11.192844</td>\n",
       "    </tr>\n",
       "    <tr>\n",
       "      <th>2</th>\n",
       "      <td>C</td>\n",
       "      <td>13.421479</td>\n",
       "    </tr>\n",
       "    <tr>\n",
       "      <th>3</th>\n",
       "      <td>D</td>\n",
       "      <td>10.532318</td>\n",
       "    </tr>\n",
       "    <tr>\n",
       "      <th>4</th>\n",
       "      <td>E</td>\n",
       "      <td>6.884683</td>\n",
       "    </tr>\n",
       "  </tbody>\n",
       "</table>\n",
       "</div>"
      ],
      "text/plain": [
       "  store      price\n",
       "0     A   5.593230\n",
       "1     B  11.192844\n",
       "2     C  13.421479\n",
       "3     D  10.532318\n",
       "4     E   6.884683"
      ]
     },
     "execution_count": 5,
     "metadata": {},
     "output_type": "execute_result"
    }
   ],
   "source": [
    "#using groupby finding the mean price value for each store\n",
    "df = data.groupby('store').mean().reset_index()\n",
    "df"
   ]
  },
  {
   "cell_type": "markdown",
   "metadata": {},
   "source": [
    "The average price per store give a first insight in which store is cheaper — in this case, store A."
   ]
  },
  {
   "cell_type": "markdown",
   "metadata": {},
   "source": [
    "### How does ANOVA work?"
   ]
  },
  {
   "cell_type": "markdown",
   "metadata": {},
   "source": [
    "- The ANOVA model starts by estimating the total amount of variation that exists in the price of book across various stores (this is why it is called Analysis of Variance).\n",
    "\n",
    "- If we ignore the information about the store, the best estimation of price(just looking by the avgs only for now) we could give for new book is apx between 5.59 and 13.42 dollars. Let’s for now call this total variation."
   ]
  },
  {
   "cell_type": "markdown",
   "metadata": {},
   "source": [
    "### Data Visualisation"
   ]
  },
  {
   "cell_type": "code",
   "execution_count": 6,
   "metadata": {},
   "outputs": [
    {
     "data": {
      "image/png": "[encoded data removed]",
      "text/plain": [
       "<Figure size 720x360 with 2 Axes>"
      ]
     },
     "metadata": {
      "needs_background": "light"
     },
     "output_type": "display_data"
    }
   ],
   "source": [
    "import seaborn as sns\n",
    "import numpy as np\n",
    "import matplotlib.pyplot as plt\n",
    "\n",
    "fig, (ax1,ax2) = plt.subplots(1,2,figsize=(10,5))\n",
    "sns.boxplot(y=data[\"price\"],ax=ax1)\n",
    "sns.boxplot(x=data['store'],y=data[\"price\"],ax=ax2)\n",
    "ax2.axes.yaxis.set_ticks([])\n",
    "ax2.set_ylabel('')\n",
    "ax1.set_xlabel('Total Average Price')\n",
    "plt.show()"
   ]
  },
  {
   "cell_type": "markdown",
   "metadata": {},
   "source": [
    "Above is the comparision of the total and group wise prices boxplots. As we can see in the right plot group A, C and E seems like are heavily skewed which might influence the normality of residuals(one of the assumptions) but we'll check for that later."
   ]
  },
  {
   "cell_type": "code",
   "execution_count": 7,
   "metadata": {},
   "outputs": [
    {
     "data": {
      "image/png": "[encoded data removed]",
      "text/plain": [
       "<Figure size 720x360 with 2 Axes>"
      ]
     },
     "metadata": {
      "needs_background": "light"
     },
     "output_type": "display_data"
    }
   ],
   "source": [
    "fig, (ax1,ax2) = plt.subplots(1,2,figsize=(10,5))\n",
    "sns.violinplot(y=data[\"price\"],ax=ax1)\n",
    "sns.violinplot(x=data['store'],y=data[\"price\"],ax=ax2)\n",
    "ax2.axes.yaxis.set_ticks([])\n",
    "ax2.set_ylabel('')\n",
    "ax1.set_xlabel('Total Average Price')\n",
    "plt.show()"
   ]
  },
  {
   "cell_type": "markdown",
   "metadata": {},
   "source": [
    "Violin plots have many of the same summary statistics:\n",
    "\n",
    "- the white dot represents the median\n",
    "- the thick gray bar in the center represents the interquartile range\n",
    "- the thin gray line represents the rest of the distribution, except for points that are determined to be “outliers” using a method that is a function of the interquartile range.\n",
    "- On each side of the gray line is a kernel density estimation to show the distribution shape of the data. Wider sections of the - violin plot represent a higher probability that members of the population will take on the given value; the skinnier sections represent a lower probability"
   ]
  },
  {
   "cell_type": "code",
   "execution_count": 8,
   "metadata": {},
   "outputs": [
    {
     "name": "stdout",
     "output_type": "stream",
     "text": [
      "A_std : 0.314432897118298\n",
      "B_std : 1.5083396634560164\n",
      "C_std : 1.1248204215587991\n",
      "D_std : 0.8964047330385949\n",
      "E_std : 0.47925949402834644\n"
     ]
    },
    {
     "data": {
      "image/png": "[encoded data removed]",
      "text/plain": [
       "<Figure size 720x360 with 1 Axes>"
      ]
     },
     "metadata": {},
     "output_type": "display_data"
    }
   ],
   "source": [
    "x = ['A','B','C','D','E']\n",
    "comp_dict = {}\n",
    "\n",
    "#Assigns each score series to a dictionary key\n",
    "for comp in x:\n",
    "    comp_dict[comp] = data[data['store'] == comp]['price']\n",
    "\n",
    "\n",
    "y = []\n",
    "yerror = []\n",
    "\n",
    "#Assigns the mean score and 95% confidence limit to each store\n",
    "for comp in x:\n",
    "    y.append(comp_dict[comp].mean())\n",
    "    yerror.append(1.96*comp_dict[comp].std()/np.sqrt(comp_dict[comp].shape[0]))    \n",
    "    print(comp + '_std : {}'.format(comp_dict[comp].std()))\n",
    "       \n",
    "sns.set(font_scale=1.5)\n",
    "fig = plt.figure(figsize=(10,5))\n",
    "ax = sns.barplot(df['store'], df['price'], yerr=yerror)\n",
    "ax.set_ylabel('Average Price')\n",
    "plt.show()"
   ]
  },
  {
   "cell_type": "markdown",
   "metadata": {},
   "source": [
    "From our data exploration, we can see that the average Price are different for each stores except B and D which are comparable. We are interested in knowing if this is caused by random variation in data, or if there is an underlying cause.\n",
    "\n",
    "we are going to use the 1-way ANOVA test anyway just to understand the concepts."
   ]
  },
  {
   "cell_type": "markdown",
   "metadata": {},
   "source": [
    "#### Between-Group Variation is Explained by our Variable Store\n",
    "\n",
    "If we add the variable store in the graph, we see that if we know which store we purchase book from, we can give a more precise range of prices."
   ]
  },
  {
   "cell_type": "code",
   "execution_count": 9,
   "metadata": {},
   "outputs": [
    {
     "name": "stdout",
     "output_type": "stream",
     "text": [
      "Range for store A: (5.1636507261027536, 5.991750992293608)\n",
      "Range for store B: (8.95364025413333, 13.367985744089538)\n",
      "Range for store C: (12.269110148357782, 14.982581052892085)\n",
      "Range for store D: (9.09339224525288, 11.707541529745605)\n",
      "Range for store E: (6.053248729546229, 7.66943018698683)\n"
     ]
    }
   ],
   "source": [
    "#finding the range for each group\n",
    "def minmax(val_list):\n",
    "    \"\"\" \n",
    "    Function takes a list as input and returns the maximum and minimum value of the list\n",
    "    Input:\n",
    "    val_list: list(int)\n",
    "    \n",
    "    \"\"\"\n",
    "    min_val = min(val_list)\n",
    "    max_val = max(val_list)\n",
    "\n",
    "    return (min_val, max_val)\n",
    "\n",
    "# Range for stores A,B,C,D, and E\n",
    "for i in df.store:\n",
    "    print(\"Range for store \"+i+\":\",minmax(data[data.store==i].price))"
   ]
  },
  {
   "cell_type": "markdown",
   "metadata": {},
   "source": [
    "This phenomenon is due to the Between-Group variation: a quantification of the variation explained by our variable."
   ]
  },
  {
   "cell_type": "markdown",
   "metadata": {},
   "source": [
    "#### Within-Group Variation is not Explained by our Variable Store\n",
    "\n",
    "However, there is also some part of variation that cannot be explained by our variable ‘store’. for eg. we still don’t know why there is a difference between 8.95 and 13.3 in store B’s price and we would need more variables to explain this.\n",
    "\n",
    "Since we do not have those new variables, the variation remains unexplained and is called the within-group variation."
   ]
  },
  {
   "cell_type": "markdown",
   "metadata": {},
   "source": [
    "### The Null and Alternative Hypothesis\n",
    "\n",
    "- There are no significant differences between the store's mean Prices.\n",
    "\n",
    "$$ H_{0}: \\mu_{1}=\\mu_{2}=\\mu_{3}=\\mu_{4}=\\mu_{5}$$\n",
    "\n",
    "- There is a significant difference between the store's mean Prices.\n",
    "\n",
    "$$ H_{a}: \\mu_{i}  \\neq \\mu_{j} $$\n",
    "\n",
    "Where $\\mu_{i}$ and $\\mu_{j}$ can be the mean of any store. If there is at least one store with a significant difference with another store, the null hypothesis will be rejected."
   ]
  },
  {
   "cell_type": "markdown",
   "metadata": {},
   "source": [
    "### ANOVA: hypothesis test for group differences\n",
    "When the total variation is split in two, a hypothesis test is applied to find out whether the observed differences in our sample of 35 is significant:\n",
    "\n",
    "- Is one store giving book at lesser price, or is this random noise due to the sampling effect?\n",
    "\n",
    "We need a statistical test to give us this answer: the ANOVA F-test."
   ]
  },
  {
   "cell_type": "markdown",
   "metadata": {},
   "source": [
    "### Why ANOVA uses F-test and what F-test does?\n",
    "\n",
    "ANOVA uses the F-test for statistical significance. This allows for comparison of multiple means at once, because the error is calculated for the whole set of comparisons rather than for each individual two-way comparison \n",
    "\n",
    "The F-test compares the variance in each group mean from the overall group variance. If the variance within groups is smaller than the variance between groups, the F-test will find a higher F-value, and therefore a higher likelihood that the difference observed is real and not due to chance."
   ]
  },
  {
   "cell_type": "markdown",
   "metadata": {},
   "source": [
    "### Formula involved in ANOVA\n",
    "\n",
    "We can calculate a score for the ANOVA. Then we can look up the score in the F-distribution and obtain a p-value.\n",
    "\n",
    "- The F-statistic is defined as follows:\n",
    "\n",
    "$$F = \\frac{MS_{b}}{MS_{w}}$$\n",
    "\n",
    "$$F = \\frac{SS_{b}}{K-1}$$\n",
    "\n",
    "$$SS_{b} = \\frac{SS_{w}}{N-K}$$\n",
    "\n",
    "$$SS_{b} = n_{k}\\sum (\\bar{x_{k}}-\\bar{x_{G}})$$\n",
    "\n",
    "$$SS_{w} = sum (x_{i}-\\bar{x_{G}})^{2}$$\n",
    "\n",
    "Where $MS_{b}$ is the estimated variance between groups and $MS_{w}$ is the estimated variance within groups, $\\bar{x_{k}}$ is the mean within each group, $n_{k}$ is the sample size for each group, $x_{i}$ is the individual data point, and $\\bar{x_{G}}$ is the total mean, $SS_{b}$ is sum of squares between the groups and $SS_{w}$ is sum of squares within the groups\n",
    "\n",
    "This is quite a lot of math, fortunately scipy has a function that plugs in all the values for us."
   ]
  },
  {
   "cell_type": "markdown",
   "metadata": {},
   "source": [
    "## 1-Way ANOVA Using StatsModels"
   ]
  },
  {
   "cell_type": "markdown",
   "metadata": {},
   "source": [
    "This method conducts a one-way ANOVA in two steps:\n",
    "\n",
    "- Fit the model using an estimation method\n",
    "   - The default estimation method in most statistical software packages is ordinary least squares\n",
    "   - If you are not familiar with it and don't care to really dive into it, then just know it's one of many types of estimation methods that aim to provide estimates of the parameter (mean, propertion, etc.) being tested\n",
    "\n",
    "\n",
    "- Pass fitted model into ANOVA method to produce ANOVA table"
   ]
  },
  {
   "cell_type": "code",
   "execution_count": 10,
   "metadata": {},
   "outputs": [],
   "source": [
    "#importing stats library\n",
    "import statsmodels.api as sm\n",
    "from statsmodels.formula.api import ols\n",
    "import scipy.stats as stats\n",
    "\n",
    "def Anova_table(x,y,df):\n",
    "    \"\"\"\n",
    "    This function takes variables(independent and dependent) along with dataframe they were derived from and returns anova \n",
    "    table and model\n",
    "\n",
    "    Inputs:\n",
    "    x: Explanatory variable (column name)\n",
    "    y: Response variable/Dependent variable (column name)\n",
    "    df: The dataframe in which x and y belong\n",
    "    \n",
    "    This hypothesis is tested by calculating sums of squares and looking for a variation in y between levels of x\n",
    "    that exceeds the variation within levels.\n",
    "    \"\"\"\n",
    "\n",
    "    lm = ols('{} ~ {}'.format(x,y),data=df).fit()\n",
    "    table = sm.stats.anova_lm(lm)\n",
    "    return lm,table"
   ]
  },
  {
   "cell_type": "code",
   "execution_count": 11,
   "metadata": {},
   "outputs": [],
   "source": [
    "lm, anova_table = Anova_table('price','store', data)"
   ]
  },
  {
   "cell_type": "code",
   "execution_count": 12,
   "metadata": {},
   "outputs": [
    {
     "data": {
      "text/html": [
       "<div>\n",
       "<style scoped>\n",
       "    .dataframe tbody tr th:only-of-type {\n",
       "        vertical-align: middle;\n",
       "    }\n",
       "\n",
       "    .dataframe tbody tr th {\n",
       "        vertical-align: top;\n",
       "    }\n",
       "\n",
       "    .dataframe thead th {\n",
       "        text-align: right;\n",
       "    }\n",
       "</style>\n",
       "<table border=\"1\" class=\"dataframe\">\n",
       "  <thead>\n",
       "    <tr style=\"text-align: right;\">\n",
       "      <th></th>\n",
       "      <th>df</th>\n",
       "      <th>sum_sq</th>\n",
       "      <th>mean_sq</th>\n",
       "      <th>F</th>\n",
       "      <th>PR(&gt;F)</th>\n",
       "    </tr>\n",
       "  </thead>\n",
       "  <tbody>\n",
       "    <tr>\n",
       "      <th>store</th>\n",
       "      <td>4.0</td>\n",
       "      <td>289.863253</td>\n",
       "      <td>72.465813</td>\n",
       "      <td>77.546527</td>\n",
       "      <td>2.226964e-15</td>\n",
       "    </tr>\n",
       "    <tr>\n",
       "      <th>Residual</th>\n",
       "      <td>30.0</td>\n",
       "      <td>28.034452</td>\n",
       "      <td>0.934482</td>\n",
       "      <td>NaN</td>\n",
       "      <td>NaN</td>\n",
       "    </tr>\n",
       "  </tbody>\n",
       "</table>\n",
       "</div>"
      ],
      "text/plain": [
       "            df      sum_sq    mean_sq          F        PR(>F)\n",
       "store      4.0  289.863253  72.465813  77.546527  2.226964e-15\n",
       "Residual  30.0   28.034452   0.934482        NaN           NaN"
      ]
     },
     "execution_count": 12,
     "metadata": {},
     "output_type": "execute_result"
    }
   ],
   "source": [
    "anova_table"
   ]
  },
  {
   "cell_type": "markdown",
   "metadata": {},
   "source": [
    "The ANOVA output provides an estimate of how much variation in the dependent variable that can be explained by the independent variable.\n",
    "\n",
    "- The first column lists the independent variable along with the model residuals (aka the model error).\n",
    "- The __Df__ column displays the degrees of freedom for the independent variable (calculated by taking the number of levels within the variable and subtracting 1), and the degrees of freedom for the residuals (calculated by taking the total number of observations minus 1, then subtracting the number of levels in each of the independent variables).\n",
    "- The __Sum Sq__ column displays the sum of squares (a.k.a. the total variation) between the group means and the overall mean explained by that variable. \n",
    "- The __Mean Sq__ column is the mean of the sum of squares, which is calculated by dividing the sum of squares by the degrees of freedom.\n",
    "- The __F-value__ column is the test statistic from the F test: the mean square of each independent variable divided by the mean square of the residuals. The larger the F value, the more likely it is that the variation associated with the independent variable is real and not due to chance.\n",
    "- The __Pr(>F)__ column is the p-value of the F-statistic. This shows how likely it is that the F-value calculated from the test would have occurred if the null hypothesis of no difference among group means were true."
   ]
  },
  {
   "cell_type": "markdown",
   "metadata": {},
   "source": [
    "__We can treat table as a normal dataframe to extract individual values from it__"
   ]
  },
  {
   "cell_type": "code",
   "execution_count": 14,
   "metadata": {},
   "outputs": [
    {
     "data": {
      "text/plain": [
       "store       2.226964e-15\n",
       "Residual             NaN\n",
       "Name: PR(>F), dtype: float64"
      ]
     },
     "execution_count": 14,
     "metadata": {},
     "output_type": "execute_result"
    }
   ],
   "source": [
    "anova_table['PR(>F)']"
   ]
  },
  {
   "cell_type": "markdown",
   "metadata": {},
   "source": [
    "Since our p-value of 2.226964e-15 is smaller than 0.05, so we can reject our null hypothesis and accept alternate hypothesis i.e There are significant differences between the store's mean Prices."
   ]
  },
  {
   "cell_type": "markdown",
   "metadata": {},
   "source": [
    "### ASSUMPTION CHECK\n",
    "\n",
    "Initially we looked at some assumptions that we did not check for our data, we are going to visit them now.\n",
    "\n",
    " __NORMALITY__\n",
    "\n",
    "- The assumption of normality is tested on the residuals of the model when coming from an ANOVA or regression framework. One method for testing the assumption of normality is the __Shapiro-Wilk test__. This can be completed using the shapiro() method from scipy.stats. The output is (W-test statistic, p-value).\n",
    "\n",
    "\n",
    "- __What is the Shapiro-Wilk Test?__\n",
    "  - The Shapiro-Wilk test is a way to tell if a random sample comes from a normal distribution. The test gives you a W value; small values indicate your sample is not normally distributed (you can reject the null hypothesis that your population is normally distributed if your values are under a certain threshold).\n",
    "  $$ W = \\frac{(\\sum_{i=1}^{n} {a_{i}x_{i}})^2}{\\sum_{i=1}^{n} {(x_{i}-\\bar{x})^{2}}}$$\n",
    "where:\n",
    "$x_{i}$ are the ordered random sample values\n",
    "$a_{i}$  are constants generated from the covariances, variances and means of the sample (size n) from a normally distributed sample."
   ]
  },
  {
   "cell_type": "code",
   "execution_count": 15,
   "metadata": {},
   "outputs": [
    {
     "data": {
      "text/plain": [
       "(0.9918787479400635, 0.9951302409172058)"
      ]
     },
     "execution_count": 15,
     "metadata": {},
     "output_type": "execute_result"
    }
   ],
   "source": [
    "import scipy.stats as stats\n",
    "\n",
    "stats.shapiro(lm.resid)"
   ]
  },
  {
   "cell_type": "markdown",
   "metadata": {},
   "source": [
    "- The test is non-significant, W= 0.99187, p= 0.99513(>0.05), which indicates that the residuals are normally distributed."
   ]
  },
  {
   "cell_type": "markdown",
   "metadata": {},
   "source": [
    "__HOMOGENEITY OF VARIANCE__\n",
    "\n",
    "- The final assumption is that all groups have equal variances. One method for testing this assumption is the __Levene's test__ of homogeneity of variances. This can be completed using the levene() method from Scipy.stats.\n",
    "\n",
    "\n",
    "- __What is the Levene Test?__\n",
    "   - Levene’s test is used to check that variances are equal for all samples when your data comes from a non normal distribution.\n",
    "   - The null hypothesis for Levene's test: \n",
    "     - the groups we're comparing all have equal population variances."
   ]
  },
  {
   "cell_type": "code",
   "execution_count": 16,
   "metadata": {},
   "outputs": [
    {
     "data": {
      "text/plain": [
       "LeveneResult(statistic=2.018619466419008, pvalue=0.11711048835749474)"
      ]
     },
     "execution_count": 16,
     "metadata": {},
     "output_type": "execute_result"
    }
   ],
   "source": [
    "stats.levene(data['price'][data['store'] == 'A'],\n",
    "             data['price'][data['store'] == 'B'],\n",
    "             data['price'][data['store'] == 'C'],\n",
    "             data['price'][data['store'] == 'D'],\n",
    "             data['price'][data['store'] == 'E'])"
   ]
  },
  {
   "cell_type": "markdown",
   "metadata": {},
   "source": [
    "The Levene's test of homogeneity of variances is not significant as pvalue>0.05 which indicates that the groups have non-statistically significant difference in their varability."
   ]
  },
  {
   "cell_type": "markdown",
   "metadata": {},
   "source": [
    "### POST-HOC TESTING\n",
    "A post hoc test is used only after we find a statistically significant result and need to determine where our differences truly came from.\n",
    "\n",
    "__Tukey Honestly Significant Difference (HSD)__\n",
    "\n",
    "Tukey’s test calculates a new critical value that can be used to evaluate whether differences between any two pairs of means are\n",
    "significant. The critical value is a little different because it involves the mean difference that has to be exceeded to achieve significance. So one simply calculates one critcal value and then the difference between all possible pairs of means. Each difference is then compared to the Tukey critical value. If the difference is larger than the Tukey value, the comparison is significant. The formula for the critical value is as follows\n",
    "\n",
    "$$\\bar {d_{t}} = q_t \\sqrt {\\frac{MS_{s/A}}{n}}$$\n",
    "\n",
    "qT is the studentized range statistic, $MS_{s/A}$ is the mean square error from the overall F-test, and n is the sample size for each group.\n",
    "\n",
    "- Tests all pairwise group comparisons while controlling for the multiple comparisons which protects the familywise error rate and from making a Type I error\n",
    "- Not technically a \"post-hoc\" test since this test can be used as a test independently of the ANOVA and can be planned before hand\n",
    "- Tukey-Kramer Test When sample sizes are unequal, the Tukey HSD test can be modified by replacing $\\frac{2}{n}$ with $\\frac{1}{n_i} + \\frac{1}{n_j}$ in the above formulas. Although the stats function does that by itself."
   ]
  },
  {
   "cell_type": "code",
   "execution_count": 17,
   "metadata": {},
   "outputs": [],
   "source": [
    "#For the Tukey test, we assign a variable to the MultiComparison() function,where we provide our response variable('price'),\n",
    "#the group we are testing (store, in this case),and our alpha value (0.05). Then, we simply print the result.\n",
    "\n",
    "import statsmodels.stats.multicomp as mc\n",
    "\n",
    "def Tukey_Table(x,y,data):\n",
    "    \"\"\"\n",
    "    The function returns the tukey results as well as a dataframe which contains all the components of results which \n",
    "    can be used later to examine each value\n",
    "    \n",
    "    Inputs:\n",
    "    x: Explanatory variable (column name)\n",
    "    y: Response variable/Dependent variable (column name)\n",
    "    data: The dataframe in which x and y belong\n",
    "    \n",
    "    \"\"\"\n",
    "    comp = mc.MultiComparison(data[x],data[y])\n",
    "    post_hoc_res = comp.tukeyhsd()\n",
    "    df = pd.DataFrame(data=post_hoc_res._results_table.data[1:], columns=post_hoc_res._results_table.data[0])\n",
    "    return post_hoc_res,df"
   ]
  },
  {
   "cell_type": "code",
   "execution_count": 18,
   "metadata": {},
   "outputs": [],
   "source": [
    "tukey_res,tukey_table = Tukey_Table('price','store',data)"
   ]
  },
  {
   "cell_type": "code",
   "execution_count": 19,
   "metadata": {},
   "outputs": [
    {
     "name": "stdout",
     "output_type": "stream",
     "text": [
      "mean diffs: [ 5.59961414  7.82824917  4.93908825  1.29145245  2.22863503 -0.66052589\n",
      " -4.30816169 -2.88916092 -6.53679672 -3.6476358 ]\n",
      "----------------------------------------------------------\n",
      "std pairs: [0.36537295 0.36537295 0.36537295 0.36537295 0.36537295 0.36537295\n",
      " 0.36537295 0.36537295 0.36537295 0.36537295]\n",
      "----------------------------------------------------------\n",
      "groups unique:  ['A' 'B' 'C' 'D' 'E']\n",
      "----------------------------------------------------------\n",
      "df total: 30\n",
      "----------------------------------------------------------\n",
      "df total: Multiple Comparison of Means - Tukey HSD, FWER=0.05 \n",
      "====================================================\n",
      "group1 group2 meandiff p-adj   lower   upper  reject\n",
      "----------------------------------------------------\n",
      "     A      B   5.5996  0.001  4.1009  7.0984   True\n",
      "     A      C   7.8282  0.001  6.3295   9.327   True\n",
      "     A      D   4.9391  0.001  3.4403  6.4378   True\n",
      "     A      E   1.2915 0.1179 -0.2073  2.7902  False\n",
      "     B      C   2.2286 0.0014  0.7299  3.7274   True\n",
      "     B      D  -0.6605  0.684 -2.1593  0.8382  False\n",
      "     B      E  -4.3082  0.001 -5.8069 -2.8094   True\n",
      "     C      D  -2.8892  0.001 -4.3879 -1.3904   True\n",
      "     C      E  -6.5368  0.001 -8.0355  -5.038   True\n",
      "     D      E  -3.6476  0.001 -5.1464 -2.1489   True\n",
      "----------------------------------------------------\n"
     ]
    }
   ],
   "source": [
    "print(\"mean diffs:\", tukey_res.meandiffs)\n",
    "print(\"----------------------------------------------------------\")\n",
    "print(\"std pairs:\",tukey_res.std_pairs)\n",
    "print(\"----------------------------------------------------------\")\n",
    "print(\"groups unique: \", tukey_res.groupsunique)\n",
    "print(\"----------------------------------------------------------\")\n",
    "print(\"df total:\", tukey_res.df_total)\n",
    "print(\"----------------------------------------------------------\")\n",
    "print(\"df total:\", tukey_res)"
   ]
  },
  {
   "cell_type": "markdown",
   "metadata": {},
   "source": [
    "Now to make sense of the table.\n",
    "\n",
    "At the top the table testing information is provided\n",
    "- __FWER__ is the familywise error rate, i.e. what $\\alpha$ is being set to and controlled at\n",
    "- __group1__ and __group2__ columns are the groups being compared\n",
    "- __meandiff__ is the difference between the group means\n",
    "- __p-adj__ is the corrected p-value which takes into account the multiple comparisons being conducted\n",
    "- __lower__ is the lower band of the confidence interval.\n",
    "- __upper__ is the upper band of the confidence interval.\n",
    "- __reject__ is the decision rule based on the corrected p-value.\n"
   ]
  },
  {
   "cell_type": "code",
   "execution_count": 20,
   "metadata": {},
   "outputs": [
    {
     "data": {
      "text/html": [
       "<div>\n",
       "<style scoped>\n",
       "    .dataframe tbody tr th:only-of-type {\n",
       "        vertical-align: middle;\n",
       "    }\n",
       "\n",
       "    .dataframe tbody tr th {\n",
       "        vertical-align: top;\n",
       "    }\n",
       "\n",
       "    .dataframe thead th {\n",
       "        text-align: right;\n",
       "    }\n",
       "</style>\n",
       "<table border=\"1\" class=\"dataframe\">\n",
       "  <thead>\n",
       "    <tr style=\"text-align: right;\">\n",
       "      <th></th>\n",
       "      <th>group1</th>\n",
       "      <th>group2</th>\n",
       "      <th>p-adj</th>\n",
       "      <th>reject</th>\n",
       "    </tr>\n",
       "  </thead>\n",
       "  <tbody>\n",
       "    <tr>\n",
       "      <th>0</th>\n",
       "      <td>A</td>\n",
       "      <td>B</td>\n",
       "      <td>0.0010</td>\n",
       "      <td>True</td>\n",
       "    </tr>\n",
       "    <tr>\n",
       "      <th>1</th>\n",
       "      <td>A</td>\n",
       "      <td>C</td>\n",
       "      <td>0.0010</td>\n",
       "      <td>True</td>\n",
       "    </tr>\n",
       "    <tr>\n",
       "      <th>2</th>\n",
       "      <td>A</td>\n",
       "      <td>D</td>\n",
       "      <td>0.0010</td>\n",
       "      <td>True</td>\n",
       "    </tr>\n",
       "    <tr>\n",
       "      <th>3</th>\n",
       "      <td>A</td>\n",
       "      <td>E</td>\n",
       "      <td>0.1179</td>\n",
       "      <td>False</td>\n",
       "    </tr>\n",
       "    <tr>\n",
       "      <th>4</th>\n",
       "      <td>B</td>\n",
       "      <td>C</td>\n",
       "      <td>0.0014</td>\n",
       "      <td>True</td>\n",
       "    </tr>\n",
       "    <tr>\n",
       "      <th>5</th>\n",
       "      <td>B</td>\n",
       "      <td>D</td>\n",
       "      <td>0.6840</td>\n",
       "      <td>False</td>\n",
       "    </tr>\n",
       "    <tr>\n",
       "      <th>6</th>\n",
       "      <td>B</td>\n",
       "      <td>E</td>\n",
       "      <td>0.0010</td>\n",
       "      <td>True</td>\n",
       "    </tr>\n",
       "    <tr>\n",
       "      <th>7</th>\n",
       "      <td>C</td>\n",
       "      <td>D</td>\n",
       "      <td>0.0010</td>\n",
       "      <td>True</td>\n",
       "    </tr>\n",
       "    <tr>\n",
       "      <th>8</th>\n",
       "      <td>C</td>\n",
       "      <td>E</td>\n",
       "      <td>0.0010</td>\n",
       "      <td>True</td>\n",
       "    </tr>\n",
       "    <tr>\n",
       "      <th>9</th>\n",
       "      <td>D</td>\n",
       "      <td>E</td>\n",
       "      <td>0.0010</td>\n",
       "      <td>True</td>\n",
       "    </tr>\n",
       "  </tbody>\n",
       "</table>\n",
       "</div>"
      ],
      "text/plain": [
       "  group1 group2   p-adj  reject\n",
       "0      A      B  0.0010    True\n",
       "1      A      C  0.0010    True\n",
       "2      A      D  0.0010    True\n",
       "3      A      E  0.1179   False\n",
       "4      B      C  0.0014    True\n",
       "5      B      D  0.6840   False\n",
       "6      B      E  0.0010    True\n",
       "7      C      D  0.0010    True\n",
       "8      C      E  0.0010    True\n",
       "9      D      E  0.0010    True"
      ]
     },
     "execution_count": 20,
     "metadata": {},
     "output_type": "execute_result"
    }
   ],
   "source": [
    "tukey_table[['group1','group2','p-adj','reject']]"
   ]
  },
  {
   "cell_type": "markdown",
   "metadata": {},
   "source": [
    "Above results from Tukey’s HSD suggests that pairwise comparisions for A-E and B-D,  rejects null hypothesis (p < 0.05) and indicates statistical significant differences."
   ]
  },
  {
   "cell_type": "markdown",
   "metadata": {},
   "source": [
    "## 1-Way ANOVA (from scratch)"
   ]
  },
  {
   "cell_type": "markdown",
   "metadata": {},
   "source": [
    "### 1. Sum of Squares Total\n",
    "Let’s get to the action! What I described before as variation is mathematically measured by the Sum of Squares,\n",
    "\n",
    "$$\\sum_{i=1}^{n} {(y_{i}-\\bar{y})^{2}}$$"
   ]
  },
  {
   "cell_type": "code",
   "execution_count": 21,
   "metadata": {},
   "outputs": [
    {
     "data": {
      "text/plain": [
       "9.524910989733483"
      ]
     },
     "execution_count": 21,
     "metadata": {},
     "output_type": "execute_result"
    }
   ],
   "source": [
    "# compute overall mean\n",
    "overall_mean = data['price'].mean()\n",
    "overall_mean"
   ]
  },
  {
   "cell_type": "code",
   "execution_count": 22,
   "metadata": {},
   "outputs": [
    {
     "data": {
      "text/plain": [
       "317.8977048893163"
      ]
     },
     "execution_count": 22,
     "metadata": {},
     "output_type": "execute_result"
    }
   ],
   "source": [
    "# compute Sum of Squares Total\n",
    "data['overall_mean'] = overall_mean\n",
    "ss_total = sum((data['price'] - data['overall_mean'])**2)\n",
    "ss_total"
   ]
  },
  {
   "cell_type": "markdown",
   "metadata": {},
   "source": [
    "This value can be found in the ANOVA table of statsmodels by taking the sum of the sum_sq column.\n",
    "\n",
    "### 2. Sum of Squares Residual\n",
    "The computation for residual Sum of Squares is slightly different because it takes not the overall average, but the three group averages.\n",
    "\n",
    "We need to subtract each value from the mean of its group (the mean of its own store) and then square those differences and sum them.\n",
    "\n",
    "Here’s how it’s done in Python:"
   ]
  },
  {
   "cell_type": "code",
   "execution_count": 23,
   "metadata": {},
   "outputs": [
    {
     "data": {
      "text/html": [
       "<div>\n",
       "<style scoped>\n",
       "    .dataframe tbody tr th:only-of-type {\n",
       "        vertical-align: middle;\n",
       "    }\n",
       "\n",
       "    .dataframe tbody tr th {\n",
       "        vertical-align: top;\n",
       "    }\n",
       "\n",
       "    .dataframe thead th {\n",
       "        text-align: right;\n",
       "    }\n",
       "</style>\n",
       "<table border=\"1\" class=\"dataframe\">\n",
       "  <thead>\n",
       "    <tr style=\"text-align: right;\">\n",
       "      <th></th>\n",
       "      <th>group_mean</th>\n",
       "      <th>overall_mean</th>\n",
       "    </tr>\n",
       "    <tr>\n",
       "      <th>store</th>\n",
       "      <th></th>\n",
       "      <th></th>\n",
       "    </tr>\n",
       "  </thead>\n",
       "  <tbody>\n",
       "    <tr>\n",
       "      <th>A</th>\n",
       "      <td>5.593230</td>\n",
       "      <td>9.524911</td>\n",
       "    </tr>\n",
       "    <tr>\n",
       "      <th>B</th>\n",
       "      <td>11.192844</td>\n",
       "      <td>9.524911</td>\n",
       "    </tr>\n",
       "    <tr>\n",
       "      <th>C</th>\n",
       "      <td>13.421479</td>\n",
       "      <td>9.524911</td>\n",
       "    </tr>\n",
       "    <tr>\n",
       "      <th>D</th>\n",
       "      <td>10.532318</td>\n",
       "      <td>9.524911</td>\n",
       "    </tr>\n",
       "    <tr>\n",
       "      <th>E</th>\n",
       "      <td>6.884683</td>\n",
       "      <td>9.524911</td>\n",
       "    </tr>\n",
       "  </tbody>\n",
       "</table>\n",
       "</div>"
      ],
      "text/plain": [
       "       group_mean  overall_mean\n",
       "store                          \n",
       "A        5.593230      9.524911\n",
       "B       11.192844      9.524911\n",
       "C       13.421479      9.524911\n",
       "D       10.532318      9.524911\n",
       "E        6.884683      9.524911"
      ]
     },
     "execution_count": 23,
     "metadata": {},
     "output_type": "execute_result"
    }
   ],
   "source": [
    "# compute group means\n",
    "group_means = data.groupby('store').mean()\n",
    "group_means = group_means.rename(columns = {'price': 'group_mean'})\n",
    "group_means"
   ]
  },
  {
   "cell_type": "code",
   "execution_count": 24,
   "metadata": {},
   "outputs": [],
   "source": [
    "# add group means and overall mean to the original data frame\n",
    "data = data.merge(group_means, left_on = 'store', right_index = True)"
   ]
  },
  {
   "cell_type": "code",
   "execution_count": 25,
   "metadata": {},
   "outputs": [
    {
     "data": {
      "text/plain": [
       "28.034452055584985"
      ]
     },
     "execution_count": 25,
     "metadata": {},
     "output_type": "execute_result"
    }
   ],
   "source": [
    "# compute Sum of Squares Residual\n",
    "ss_residual = sum((data['price'] - data['group_mean'])**2)\n",
    "ss_residual"
   ]
  },
  {
   "cell_type": "markdown",
   "metadata": {},
   "source": [
    "We can find this value in the ANOVA table of statsmodels under sum_sq at the line Residual.\n",
    "\n",
    "### 3. Sum of Squares Explained\n",
    "Having computed the total sum of squares and the residual sum of squares, we can now compute the Explained Sum of Squares using:\n",
    "\n",
    "$$SS_{total} = SS_{explained} + SS_{residual}$$\n",
    "\n",
    "Since we already have the SS-Residual and SS-Total, we could do a simple subtraction to get SS-Explained. To get there the hard way, we take the weighted sum of the squared differences between each group means and the overall mean, as follows:"
   ]
  },
  {
   "cell_type": "code",
   "execution_count": 26,
   "metadata": {},
   "outputs": [
    {
     "data": {
      "text/plain": [
       "289.8632528337313"
      ]
     },
     "execution_count": 26,
     "metadata": {},
     "output_type": "execute_result"
    }
   ],
   "source": [
    "# compute Sum of Squares Model\n",
    "ss_explained = sum((data['overall_mean_x'] - data['group_mean'])**2)\n",
    "ss_explained"
   ]
  },
  {
   "cell_type": "markdown",
   "metadata": {},
   "source": [
    "The value can be found in the statsmodels table under sum_sq at the line company.\n",
    "\n",
    "### 4. Degrees of freedom\n",
    "The term degrees of freedom (df) refers to the number of independent sample points used to compute a statistic minus the number of parameters estimated from the sample points.\n",
    "For example, consider the sample estimate of the population variance ( $s^2$ ):\n",
    "\n",
    "\n",
    "$$s^2 = \\frac{\\sum_{i=1}^{n} {(x_{i}-x)^{2}}}{n-1}$$ \n",
    "where $x_{i}$ is the score for observation i in the sample, x is the sample estimate of the population mean, and n is the number of observations in the sample.\n",
    "\n",
    "The formula is based on n independent sample points and one estimated population parameter (X). Therefore, the number of degrees of freedom is n minus one. For this example,\n",
    "df = n - 1\n",
    "\n",
    "Here,\n",
    "\n",
    "- df1 = df of the explained part = number of groups — 1\n",
    "- df2 = df of the residual = number of observations — number of groups\n",
    "\n",
    "In our example, df1 = 4 and df2 = 30.\n",
    "\n",
    "### 5. Mean Squares\n",
    "The statistical test that is central in ANOVA is the F-test. The null hypothesis states that the mean of all groups is equal, which implies that our model has no explanatory value and that we don’t have proof for choosing one store over another to buy the book.\n",
    "\n",
    "The alternative hypothesis states that at least one of the means is different, which would be a reason to go more in-depth and find out which store or stores are cheaper.\n",
    "\n",
    "We compute the Mean Squares as follows:\n",
    "\n",
    "$$MS_{explained} = \\frac{SS_{explained}}{df_{explained}}$$\n",
    "$$MS_{residual} = \\frac{SS_{residual}}{df_{residual}}$$\n",
    "\n",
    "Here’s how it’s done in Python:\n"
   ]
  },
  {
   "cell_type": "code",
   "execution_count": 27,
   "metadata": {},
   "outputs": [
    {
     "data": {
      "text/plain": [
       "0.9344817351861662"
      ]
     },
     "execution_count": 27,
     "metadata": {},
     "output_type": "execute_result"
    }
   ],
   "source": [
    "# compute Mean Square Residual\n",
    "n_groups = len(set(data['store']))\n",
    "n_obs = data.shape[0]\n",
    "df_residual = n_obs - n_groups\n",
    "ms_residual = ss_residual / df_residual\n",
    "ms_residual"
   ]
  },
  {
   "cell_type": "markdown",
   "metadata": {},
   "source": [
    "### 6. F Statistic\n",
    "\n",
    "The F-test arises in tests of hypotheses concerning whether or not two population variances are equal and concerning whether or not three or more population means are equal.\n",
    "\n",
    "We use the Mean Squares to compute the F statistic as the ratio between explained vs unexplained variation:\n",
    "\n",
    "$$f = \\frac{MS_{explained}}{MS_{residual}}$$\n",
    "\n",
    "Here is the implementation in Python:"
   ]
  },
  {
   "cell_type": "code",
   "execution_count": 28,
   "metadata": {},
   "outputs": [
    {
     "data": {
      "text/plain": [
       "72.46581320843282"
      ]
     },
     "execution_count": 28,
     "metadata": {},
     "output_type": "execute_result"
    }
   ],
   "source": [
    "# compute Mean Square Explained\n",
    "df_explained = n_groups - 1\n",
    "ms_explained = ss_explained / df_explained\n",
    "ms_explained"
   ]
  },
  {
   "cell_type": "code",
   "execution_count": 29,
   "metadata": {},
   "outputs": [
    {
     "data": {
      "text/plain": [
       "77.54652710680993"
      ]
     },
     "execution_count": 29,
     "metadata": {},
     "output_type": "execute_result"
    }
   ],
   "source": [
    "# compute F-Value\n",
    "f = ms_explained / ms_residual\n",
    "f"
   ]
  },
  {
   "cell_type": "markdown",
   "metadata": {},
   "source": [
    "### 7. P-value\n",
    "In hypothesis testing, the p-value is used to decide whether an alternative hypothesis can be accepted or not (read more on p-values here if necessary).\n",
    "\n",
    "If the p-value is below 0.05, we reject the null hypothesis in favor of the alternative: this means that at least one group mean is __significantly different__.\n",
    "\n",
    "We compute the P-Value using the F distribution with df1 and df2 degrees of freedom, in our case an F(4, 30) distribution [If the  K  populations are normally distributed with a common variance and if  H0 : μ1=μ2=⋯=μK  is true then under independent random sampling  F  approximately follows an  F -distribution with degrees of freedom  df1=K−1  and  df2=n−K ].  \n",
    "\n",
    "Using probability calculation, we find the p-value as follows:"
   ]
  },
  {
   "cell_type": "code",
   "execution_count": 30,
   "metadata": {},
   "outputs": [
    {
     "data": {
      "text/plain": [
       "2.220446049250313e-15"
      ]
     },
     "execution_count": 30,
     "metadata": {},
     "output_type": "execute_result"
    }
   ],
   "source": [
    "# compute p-value\n",
    "import scipy.stats\n",
    "p_value = 1 - scipy.stats.f.cdf(f, df_explained, df_residual)\n",
    "p_value"
   ]
  },
  {
   "cell_type": "markdown",
   "metadata": {},
   "source": [
    "### 8. Interpret p-value\n",
    "\n",
    "We have to compare the p-value to our chosen alpha, in this case, 0,05.\n",
    "Our p-value of 2.220446049250313e-15 is significantly lesser than 0,05, so we can reject our null hypothesis and can accept our alternative. __we do have a statistically significant difference between are 5 samples.__\n",
    "\n",
    "This means that with the observed data, there is enough evidence to assume a general difference in price of book across the given 5 bookstores ."
   ]
  },
  {
   "cell_type": "markdown",
   "metadata": {},
   "source": [
    "## Conclusion\n",
    "\n",
    "In this Notebook, ANOVA has allowed us to statistically test whether sample differences can be generalized as population differences.\n",
    "\n",
    "This perfectly illustrates the goal of statistical inference: telling whether an observed difference is significant or not."
   ]
  }
 ],
 "metadata": {
  "kernelspec": {
   "display_name": "Python 3",
   "language": "python",
   "name": "python3"
  },
  "language_info": {
   "codemirror_mode": {
    "name": "ipython",
    "version": 3
   },
   "file_extension": ".py",
   "mimetype": "text/x-python",
   "name": "python",
   "nbconvert_exporter": "python",
   "pygments_lexer": "ipython3",
   "version": "3.7.3"
  }
 },
 "nbformat": 4,
 "nbformat_minor": 4
}
